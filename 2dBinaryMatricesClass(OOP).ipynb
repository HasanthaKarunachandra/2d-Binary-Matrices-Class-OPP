{
 "cells": [
  {
   "cell_type": "code",
   "execution_count": 1,
   "id": "a6f33a23",
   "metadata": {},
   "outputs": [],
   "source": [
    "#Hasantha karunachandra\n",
    "class Bmatrix:\n",
    "    def __init__(self,rows,coloumns,mtx):\n",
    "        self.rows=rows\n",
    "        self.coloumns=coloumns\n",
    "        self.mtx=[[mtx for i in range(coloumns)] for i in range(rows)]\n",
    "        \n",
    "    def print(self,sprt=' '):\n",
    "        for i in range(self.rows):             \n",
    "            for j in range(self.coloumns):                 \n",
    "                print(self.mtx[i][j], end=sprt)                     \n",
    "            print('\\b', end= '')\n",
    "            print()\n",
    "            \n",
    "    def add(self,addM):\n",
    "        if addM.rows == self.rows and addM.coloumns == self.coloumns:             \n",
    "            for i in range(self.rows):                 \n",
    "                for j in range(self.coloumns):                    \n",
    "                    self.mtx[i][j] = (self.mtx[i][j] + addM.mtx[i][j]) % 2\n",
    "#             print(self.mtx)\n",
    "        else:             \n",
    "            print('Error ! different sizes') \n",
    "            \n",
    "    def list(self):\n",
    "        print(self.mtx)\n",
    "        \n",
    "    def set_elem(self, rows, coloumns, stuff):         \n",
    "        if rows > 0 and rows <= self.rows and coloumns > 0 and coloumns <= self.coloumns and (stuff == 0 or stuff == 1):             \n",
    "            self.mtx[rows][coloumns] = stuff;         \n",
    "        else:            \n",
    "            print('Error ! wrong value')   \n",
    "            \n",
    "    def get_elem(self,rows,coloumns):\n",
    "        if rows > 0 and rows <= self.rows and coloumns > 0 and coloumns <= self.coloumns and (stuff == 0 or stuff == 1):             \n",
    "            return self.mtx[rows - 1][coloumns - 1]\n",
    "        else:            \n",
    "            print('Error ! wrong value') \n",
    "            \n",
    "    def mul(self,mulM):\n",
    "        if mulM.rows == self.rows and mulM.coloumns == self.coloumns:\n",
    "            for i in range(self.rows):\n",
    "                for j in range(self.coloumns):\n",
    "                    self.mtx[i][j]=(self.mtx[i][j] * mulM.mtx[i][j])\n",
    "        else:\n",
    "            print('Error ! different sizes')\n",
    "            \n",
    "    def b_or(self,b_orM):\n",
    "        if b_orM.rows == self.rows and b_orM.coloumns == self.coloumns:\n",
    "            for i in range(self.rows):\n",
    "                for j in range(self.coloumns):\n",
    "                    self.mtx[i][j]=(self.mtx[i][j] | b_orM.mtx[i][j])\n",
    "        else:\n",
    "            print('Error ! different sizes')\n",
    "            "
   ]
  },
  {
   "cell_type": "markdown",
   "id": "1ac316e9",
   "metadata": {},
   "source": [
    "## Test Cases 01"
   ]
  },
  {
   "cell_type": "code",
   "execution_count": 2,
   "id": "e97159fb",
   "metadata": {},
   "outputs": [
    {
     "name": "stdout",
     "output_type": "stream",
     "text": [
      "0,0,0,0,\b\n",
      "0,0,0,0,\b\n",
      "0,0,0,0,\b\n",
      "1 1 1 1 \b\n",
      "1 1 1 1 \b\n",
      "1 1 1 1 \b\n",
      "[[1, 1, 1, 1], [1, 1, 1, 1], [1, 1, 1, 1]]\n"
     ]
    }
   ],
   "source": [
    "aa = Bmatrix(3,4,0)\n",
    "bb = Bmatrix(3,4,1)\n",
    "aa.print(',')\n",
    "bb.print()\n",
    "aa.add(bb)\n",
    "aa.list()"
   ]
  },
  {
   "cell_type": "markdown",
   "id": "ac7cefdc",
   "metadata": {},
   "source": [
    "## Test Cases 02"
   ]
  },
  {
   "cell_type": "code",
   "execution_count": 3,
   "id": "b3411d95",
   "metadata": {},
   "outputs": [
    {
     "name": "stdout",
     "output_type": "stream",
     "text": [
      "[[1, 1, 1, 1], [1, 1, 1, 1], [1, 1, 0, 1]]\n"
     ]
    }
   ],
   "source": [
    "bb = Bmatrix(3,4,1)\n",
    "bb.set_elem(2,2,0)\n",
    "bb.list()"
   ]
  },
  {
   "cell_type": "markdown",
   "id": "1de2f98a",
   "metadata": {},
   "source": [
    "## Test Cases 03"
   ]
  },
  {
   "cell_type": "code",
   "execution_count": 4,
   "id": "a9e3613b",
   "metadata": {},
   "outputs": [
    {
     "name": "stdout",
     "output_type": "stream",
     "text": [
      "Error ! wrong value\n",
      "Error ! different sizes\n",
      "[[1, 1, 1, 1, 1, 1], [1, 1, 1, 1, 1, 1], [1, 1, 1, 1, 1, 1], [1, 1, 1, 0, 1, 1], [1, 1, 1, 1, 1, 1], [1, 1, 1, 1, 1, 1]]\n"
     ]
    }
   ],
   "source": [
    "aa = Bmatrix(5,5,1)\n",
    "bb = Bmatrix(6,6,1)\n",
    "bb.set_elem(3,3,0)\n",
    "bb.set_elem(4,4,5.25)\n",
    "bb.mul(aa)\n",
    "bb.list()"
   ]
  },
  {
   "cell_type": "markdown",
   "id": "d7088ed3",
   "metadata": {},
   "source": [
    "## Test Cases 04"
   ]
  },
  {
   "cell_type": "code",
   "execution_count": 5,
   "id": "8cf37101",
   "metadata": {},
   "outputs": [
    {
     "name": "stdout",
     "output_type": "stream",
     "text": [
      "[[1, 1, 1, 1, 1], [1, 1, 1, 1, 1], [1, 1, 1, 1, 1], [1, 1, 1, 0, 1], [1, 1, 1, 1, 0]]\n"
     ]
    }
   ],
   "source": [
    "cc=Bmatrix(5,5,0)\n",
    "dd=Bmatrix(5,5,1)\n",
    "dd.set_elem(3,3,0)\n",
    "dd.set_elem(4,4,0)\n",
    "dd.b_or(cc)\n",
    "dd.list()"
   ]
  },
  {
   "cell_type": "markdown",
   "id": "4c1a5a3c",
   "metadata": {},
   "source": [
    "[GitHub](https://github.com/HasanthaKarunachandra)\n",
    "[Lindkind](https://www.linkedin.com/in/hasantha-karunachandra-168027145/)"
   ]
  },
  {
   "cell_type": "code",
   "execution_count": null,
   "id": "4d287125",
   "metadata": {},
   "outputs": [],
   "source": []
  }
 ],
 "metadata": {
  "kernelspec": {
   "display_name": "Python 3 (ipykernel)",
   "language": "python",
   "name": "python3"
  },
  "language_info": {
   "codemirror_mode": {
    "name": "ipython",
    "version": 3
   },
   "file_extension": ".py",
   "mimetype": "text/x-python",
   "name": "python",
   "nbconvert_exporter": "python",
   "pygments_lexer": "ipython3",
   "version": "3.9.12"
  },
  "varInspector": {
   "cols": {
    "lenName": 16,
    "lenType": 16,
    "lenVar": 40
   },
   "kernels_config": {
    "python": {
     "delete_cmd_postfix": "",
     "delete_cmd_prefix": "del ",
     "library": "var_list.py",
     "varRefreshCmd": "print(var_dic_list())"
    },
    "r": {
     "delete_cmd_postfix": ") ",
     "delete_cmd_prefix": "rm(",
     "library": "var_list.r",
     "varRefreshCmd": "cat(var_dic_list()) "
    }
   },
   "types_to_exclude": [
    "module",
    "function",
    "builtin_function_or_method",
    "instance",
    "_Feature"
   ],
   "window_display": false
  }
 },
 "nbformat": 4,
 "nbformat_minor": 5
}
